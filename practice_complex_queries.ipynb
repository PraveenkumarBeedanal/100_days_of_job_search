{
 "cells": [
  {
   "cell_type": "markdown",
   "metadata": {},
   "source": [
    "### Write a SQL Query to fetch all the duplicate records in a table.\n",
    "\n",
    "https://techtfq.com/blog/learn-how-to-write-sql-queries-practice-complex-sql-queries"
   ]
  },
  {
   "cell_type": "code",
   "execution_count": null,
   "metadata": {
    "vscode": {
     "languageId": "plaintext"
    }
   },
   "outputs": [],
   "source": [
    "with add_row_number as (\n",
    "\tselect *,\n",
    "\t\trow_number() over (\n",
    "\t\t\tpartition by user_name\n",
    "\t\t\torder by user_id\n",
    "\t\t) as rn\n",
    "\tfrom users\n",
    "\torder by user_id\n",
    ")\n",
    "select user_id, user_name, email \n",
    "from add_row_number arn\n",
    "where arn.rn != 1 ## select only first occuring user information\n"
   ]
  }
 ],
 "metadata": {
  "language_info": {
   "name": "python"
  }
 },
 "nbformat": 4,
 "nbformat_minor": 2
}
