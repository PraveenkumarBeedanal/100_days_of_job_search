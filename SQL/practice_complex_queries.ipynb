{
 "cells": [
  {
   "cell_type": "markdown",
   "metadata": {},
   "source": [
    "### Write a SQL Query to fetch all the duplicate records in a table.\n",
    "\n",
    "https://techtfq.com/blog/learn-how-to-write-sql-queries-practice-complex-sql-queries"
   ]
  },
  {
   "cell_type": "code",
   "execution_count": null,
   "metadata": {
    "vscode": {
     "languageId": "plaintext"
    }
   },
   "outputs": [],
   "source": [
    "with add_row_number as (\n",
    "\tselect *,\n",
    "\t\trow_number() over (\n",
    "\t\t\tpartition by user_name\n",
    "\t\t\torder by user_id\n",
    "\t\t) as rn\n",
    "\tfrom users\n",
    "\torder by user_id\n",
    ")\n",
    "select user_id, user_name, email \n",
    "from add_row_number arn\n",
    "where arn.rn != 1 ## select only first occuring user information\n"
   ]
  },
  {
   "cell_type": "markdown",
   "metadata": {},
   "source": [
    "### Write a SQL query to fetch the second last record from employee table."
   ]
  },
  {
   "cell_type": "markdown",
   "metadata": {},
   "source": []
  },
  {
   "cell_type": "code",
   "execution_count": null,
   "metadata": {
    "vscode": {
     "languageId": "plaintext"
    }
   },
   "outputs": [],
   "source": [
    "with add_numbers as (\n",
    "\tselect *, \n",
    "\t  row_number() over (\n",
    "\t  \torder by emp_id desc\n",
    "\t  ) as rn\n",
    "from employee \n",
    ")\n",
    "select emp_id, emp_name, dept_name \n",
    "from add_numbers\n",
    "where rn = 2"
   ]
  },
  {
   "cell_type": "markdown",
   "metadata": {},
   "source": [
    "### Write a SQL query to display only the details of employees who either earn the highest salary or the lowest salary in each department from the employee table."
   ]
  },
  {
   "cell_type": "code",
   "execution_count": null,
   "metadata": {
    "vscode": {
     "languageId": "plaintext"
    }
   },
   "outputs": [],
   "source": [
    "\n",
    "# first add the ranks to the employee table per department\n",
    "with dense_rank_salary as (\n",
    "select *,\n",
    "\tdense_rank() over (\n",
    "\t\tpartition by dept_name \n",
    "\t\torder by salary \n",
    "\t) as dr\n",
    "from employee e \n",
    "),\n",
    "## get the min and max salary per department\n",
    "min_max_salary as (\n",
    "\tselect dept_name, \n",
    "\t\t\tmin(salary) as min_salary, \n",
    "\t\t\tmax(salary) as max_salary\n",
    "\tfrom dense_rank_salary e2 \n",
    "\tgroup by dept_name \n",
    "\n",
    ")\n",
    "\n",
    "## join both table based on the department name and filter out employees whose salary matches and min, max \n",
    "\n",
    "select drs.emp_id, drs.emp_name, drs.dept_name, drs.salary, mms.min_salary, mms.max_salary\n",
    "from dense_rank_salary drs\n",
    "inner join min_max_salary mms\n",
    "on drs.dept_name = mms.dept_name\n",
    "where drs.salary = min_salary\n",
    "or drs.salary = max_salary\n",
    "order by drs.dept_name\n",
    " "
   ]
  },
  {
   "cell_type": "code",
   "execution_count": null,
   "metadata": {
    "vscode": {
     "languageId": "plaintext"
    }
   },
   "outputs": [],
   "source": [
    "## get min and max salary per each department\n",
    "\n",
    "with min_max_salary as (\n",
    "select *,\n",
    "\tmin(salary) over (\n",
    "\t\tpartition by dept_name \n",
    "\t) as min_salary, \n",
    "\tmax(salary) over (\n",
    "\t\tpartition by dept_name \n",
    "\t) as max_salary\n",
    "from employee e \n",
    ")\n",
    "\n",
    "# combine with employee table to filter out the other employees whose salary not in min, max range\n",
    "\n",
    "select mms.emp_id, mms.emp_name, mms.dept_name, mms.salary, mms.min_salary, mms.max_salary\n",
    "from min_max_salary mms\n",
    "inner join employee e2\n",
    "on mms.emp_id = e2.emp_id \n",
    "where e2.salary = min_salary\n",
    "or e2.salary = max_salary\n",
    "order by e2.dept_name, e2.salary"
   ]
  },
  {
   "cell_type": "markdown",
   "metadata": {},
   "source": [
    "### From the doctors table, fetch the details of doctors who work in the same hospital but in different specialty."
   ]
  },
  {
   "cell_type": "markdown",
   "metadata": {},
   "source": [
    "select d1.*\n",
    "from doctors d1\n",
    "inner join doctors d2\n",
    "on d1.id != d2.id\n",
    "and d1.hospital = d2.hospital\n",
    "and d1.speciality != d2.speciality\n"
   ]
  },
  {
   "cell_type": "markdown",
   "metadata": {},
   "source": [
    "### From the login_details table, fetch the users who logged in consecutively 3 or more times."
   ]
  },
  {
   "cell_type": "markdown",
   "metadata": {},
   "source": [
    "with consecutive_users as (select *,\n",
    "\tlead(user_name, 1) over(\n",
    "\t\torder by login_id\n",
    "\t) as next_user_name,\n",
    "\tlead(user_name, 2) over(\n",
    "\t\torder by login_id\n",
    "\t) as next_to_next_user_name\n",
    "from login_details )\n",
    "\n",
    "select distinct user_name\n",
    "from consecutive_users cu\n",
    "where user_name = next_user_name\n",
    "and user_name = next_to_next_user_name"
   ]
  },
  {
   "cell_type": "markdown",
   "metadata": {},
   "source": [
    "### From the students table, write a SQL query to interchange the adjacent student names."
   ]
  },
  {
   "cell_type": "code",
   "execution_count": null,
   "metadata": {
    "vscode": {
     "languageId": "plaintext"
    }
   },
   "outputs": [],
   "source": [
    "select *,\n",
    "case \n",
    "\twhen id%2 != 0  then lead(student_name, 1, student_name) over (order by id)\n",
    "\twhen id%2 = 0 then lag(student_name, 1, student_name) over (order by id) \n",
    "end as new_student_name\n",
    "from students \n"
   ]
  },
  {
   "cell_type": "markdown",
   "metadata": {},
   "source": [
    "### From the weather table, fetch all the records when London had extremely cold temperature for 3 consecutive days or more.\n"
   ]
  },
  {
   "cell_type": "code",
   "execution_count": null,
   "metadata": {
    "vscode": {
     "languageId": "plaintext"
    }
   },
   "outputs": [],
   "source": [
    "with consecutive_temp as ( \n",
    "    select *,\n",
    "case\n",
    "    ## check for 2 consecutive days\n",
    "\twhen temperature < 0 \n",
    "\tand lead(temperature) over (order by day) < 0 \n",
    "\tand lead(temperature, 2) over (order by day) < 0  then 'yes'\n",
    "\t\n",
    "    ## check for previous day and next day \n",
    "\twhen temperature < 0 \n",
    "\tand lag(temperature) over (order by day) < 0 \n",
    "\tand lead(temperature) over (order by day) < 0  then 'yes'\n",
    "\t\n",
    "    ## check for 2 previous days \n",
    "\twhen temperature < 0 \n",
    "\tand lag(temperature) over (order by day) < 0 \n",
    "\tand lag(temperature, 2) over (order by day) < 0  then 'yes'\n",
    "\t\n",
    "\telse 'no'\n",
    "\t\n",
    "end as condition_met\n",
    "from weather )\n",
    "\n",
    "select id, city, temperature, day \n",
    "from consecutive_temp\n",
    "where condition_met = 'yes'\n",
    "\n"
   ]
  },
  {
   "cell_type": "markdown",
   "metadata": {},
   "source": [
    "#### From the following 3 tables (event_category, physician_speciality, patient_treatment), write a SQL query to get the histogram of specialties of the unique physicians who have done the procedures but never did prescribe anything."
   ]
  },
  {
   "cell_type": "code",
   "execution_count": null,
   "metadata": {
    "vscode": {
     "languageId": "plaintext"
    }
   },
   "outputs": [],
   "source": [
    "\n",
    "\n",
    "with prescribed_physician as(\n",
    "    ## get the physcian who has done the Prescription\n",
    "\tselect physician_id\n",
    "\tfrom patient_treatment pt\n",
    "\tinner join event_category ec\n",
    "\ton pt.event_name = ec.event_name\n",
    "\twhere ec.category = 'Prescription'\n",
    "\n",
    ")\n",
    "\n",
    "## count the speciality of physcians who has done only Procedure\n",
    "select speciality, count(speciality) as speciality_count\n",
    "from PATIENT_TREATMENT pt\n",
    "inner join PHYSICIAN_SPECIALITY ps\n",
    "on pt.physician_id = ps.physician_id\n",
    "inner join EVENT_CATEGORY ec \n",
    "on pt.event_name = ec.event_name\n",
    "where ec.category = 'Procedure'\n",
    "and pt.physician_id not in (select physician_id from prescribed_physician)\n",
    "group by speciality"
   ]
  },
  {
   "cell_type": "markdown",
   "metadata": {},
   "source": [
    "### Find the top 2 accounts with the maximum number of unique patients on a monthly basis."
   ]
  },
  {
   "cell_type": "code",
   "execution_count": null,
   "metadata": {
    "vscode": {
     "languageId": "plaintext"
    }
   },
   "outputs": [],
   "source": [
    "\n",
    "with unique_patients as (\n",
    "\t# count distinct users per month, account_id\n",
    "    select to_char(date, 'month') as month, account_id, count(distinct patient_id) as no_of_unique_patients\n",
    "\tfrom patient_logs \n",
    "\tgroup by month, account_id\n",
    "\torder by month, no_of_unique_patients desc, account_id\n",
    "),\n",
    "rank_accounts as (\n",
    "    # rank the accounts based on total patients, account_id and partition by month\n",
    "\tselect *,\n",
    "\trank() over(\n",
    "\t\t\t\tpartition by month\n",
    "\t\t\t\torder by no_of_unique_patients desc, account_id\n",
    "\t\t\t\t) as rnk\n",
    "\tfrom unique_patients\n",
    ")\n",
    "# select only top 2 accounts\n",
    "select month, account_id, no_of_unique_patients\n",
    "from rank_accounts\n",
    "where rnk in (1, 2)"
   ]
  },
  {
   "cell_type": "markdown",
   "metadata": {},
   "source": []
  }
 ],
 "metadata": {
  "language_info": {
   "name": "python"
  }
 },
 "nbformat": 4,
 "nbformat_minor": 2
}
